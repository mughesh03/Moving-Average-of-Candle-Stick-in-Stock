{
 "cells": [
  {
   "cell_type": "code",
   "execution_count": 2,
   "id": "b71b7246",
   "metadata": {},
   "outputs": [
    {
     "name": "stdout",
     "output_type": "stream",
     "text": [
      "Enter the start date (DD-MM-YYYY): 16-07-2022\n",
      "Enter the end date (DD-MM-YYYY): 26-06-2023\n",
      "Enter the number of candlesticks: 20\n",
      "Moving Average:\n",
      "0           NaN\n",
      "1           NaN\n",
      "2           NaN\n",
      "3           NaN\n",
      "4           NaN\n",
      "         ...   \n",
      "341    0.688130\n",
      "342    0.688523\n",
      "343    0.689063\n",
      "344    0.689528\n",
      "345    0.689976\n",
      "Name: Close, Length: 120, dtype: float64\n"
     ]
    }
   ],
   "source": [
    "import pandas as pd\n",
    "\n",
    "df = pd.read_csv(\"1year.csv\")\n",
    "\n",
    "start_date = input(\"Enter the start date (DD-MM-YYYY): \")\n",
    "end_date = input(\"Enter the end date (DD-MM-YYYY): \")\n",
    "num_candlesticks = int(input(\"Enter the number of candlesticks: \"))\n",
    "\n",
    "filtered_df = df[(df['Date'] >= start_date) & (df['Date'] <= end_date)]\n",
    "\n",
    "moving_average = filtered_df['Close'].rolling(window=num_candlesticks).mean()\n",
    "\n",
    "print(\"Moving Average:\")\n",
    "print(moving_average)"
   ]
  },
  {
   "cell_type": "code",
   "execution_count": 4,
   "id": "da00c16d",
   "metadata": {},
   "outputs": [
    {
     "name": "stdout",
     "output_type": "stream",
     "text": [
      "Enter the start date (DD-MM-YYYY): 16-07-2022\n",
      "Enter the end date (DD-MM-YYYY): 26-06-2023\n",
      "Enter the number of candlesticks: 20\n",
      "Moving Average saved to 'moving_average.csv'.\n"
     ]
    }
   ],
   "source": [
    "import pandas as pd\n",
    "\n",
    "df = pd.read_csv(\"1year.csv\")\n",
    "\n",
    "start_date = input(\"Enter the start date (DD-MM-YYYY): \")\n",
    "end_date = input(\"Enter the end date (DD-MM-YYYY): \")\n",
    "num_candlesticks = int(input(\"Enter the number of candlesticks: \"))\n",
    "\n",
    "filtered_df = df[(df['Date'] >= start_date) & (df['Date'] <= end_date)]\n",
    "\n",
    "moving_average = filtered_df['Close'].rolling(window=num_candlesticks).mean()\n",
    "\n",
    "output_df = pd.DataFrame({'Date': filtered_df['Date'], 'Moving Average': moving_average})\n",
    "\n",
    "output_df = output_df.reset_index(drop=True)\n",
    "\n",
    "output_df.to_csv(\"moving_average.csv\", index=False)\n",
    "\n",
    "print(\"Moving Average saved to 'moving_average.csv'.\")\n"
   ]
  },
  {
   "cell_type": "code",
   "execution_count": null,
   "id": "81056219",
   "metadata": {},
   "outputs": [],
   "source": []
  }
 ],
 "metadata": {
  "kernelspec": {
   "display_name": "Python 3 (ipykernel)",
   "language": "python",
   "name": "python3"
  },
  "language_info": {
   "codemirror_mode": {
    "name": "ipython",
    "version": 3
   },
   "file_extension": ".py",
   "mimetype": "text/x-python",
   "name": "python",
   "nbconvert_exporter": "python",
   "pygments_lexer": "ipython3",
   "version": "3.10.9"
  }
 },
 "nbformat": 4,
 "nbformat_minor": 5
}
